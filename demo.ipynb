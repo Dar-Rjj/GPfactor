{
 "cells": [
  {
   "cell_type": "code",
   "execution_count": null,
   "id": "82e70b43",
   "metadata": {},
   "outputs": [
    {
     "name": "stdout",
     "output_type": "stream",
     "text": [
      "    |   Population Average    |             Best Individual              |\n",
      "---- ------------------------- ------------------------------------------ ----------\n",
      " Gen   Length          Fitness   Length          Fitness      OOB Fitness  Time Left\n",
      "   0    38.13      4.03172e+06        9         0.340105          0.32787     27.96s\n",
      "   1     9.54          2.69158        5         0.333636         0.372242     49.33s\n",
      "   2     7.15          108.894       11         0.268337         0.282004     53.84s\n",
      "   3     4.93          1.46701       11         0.247765         0.241173     53.68s\n"
     ]
    }
   ],
   "source": [
    "import sys\n",
    "sys.path.append('gplearn')\n",
    "\n",
    "%matplotlib inline\n",
    "from gplearn.genetic import SymbolicRegressor\n",
    "from sklearn.ensemble import RandomForestRegressor\n",
    "from sklearn.tree import DecisionTreeRegressor\n",
    "from sklearn.utils.random import check_random_state\n",
    "from mpl_toolkits.mplot3d import Axes3D\n",
    "import matplotlib.pyplot as plt\n",
    "import numpy as np\n",
    "import graphviz\n",
    "\n",
    "\n",
    "# Ground truth\n",
    "x0 = np.arange(-1, 1, .1)\n",
    "x1 = np.arange(-1, 1, .1)\n",
    "x0, x1 = np.meshgrid(x0, x1)\n",
    "y_truth = x0**2 - x1**2 + x1 - 1\n",
    "rng = check_random_state(0)\n",
    "\n",
    "\n",
    "# Training samples\n",
    "X_train = rng.uniform(-1, 1, 1000).reshape(10, 50, 2)\n",
    "y_train = X_train[:, :, 0]**2 - X_train[:, :, 1]**2 + X_train[:, :, 1] - 1\n",
    "\n",
    "\n",
    "# Testing samples\n",
    "X_test = rng.uniform(-1, 1, 1000).reshape(10, 50, 2)\n",
    "y_test = X_test[:, :, 0]**2 - X_test[:, :, 1]**2 + X_test[:, :, 1] - 1\n",
    "est_gp = SymbolicRegressor(population_size=5000,\n",
    "                           generations=20, stopping_criteria=0.01,\n",
    "                           p_crossover=0.7, p_subtree_mutation=0.1,\n",
    "                           p_hoist_mutation=0.05, p_point_mutation=0.1,\n",
    "                           max_samples=0.9, verbose=1,\n",
    "                           parsimony_coefficient=0.01, random_state=0,\n",
    "                           n_jobs=10)\n",
    "est_gp.fit(X_train, y_train)\n",
    "print(est_gp._program)"
   ]
  }
 ],
 "metadata": {
  "kernelspec": {
   "display_name": "factordb",
   "language": "python",
   "name": "python3"
  },
  "language_info": {
   "codemirror_mode": {
    "name": "ipython",
    "version": 3
   },
   "file_extension": ".py",
   "mimetype": "text/x-python",
   "name": "python",
   "nbconvert_exporter": "python",
   "pygments_lexer": "ipython3",
   "version": "3.10.16"
  }
 },
 "nbformat": 4,
 "nbformat_minor": 5
}
