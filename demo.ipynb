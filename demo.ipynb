{
 "cells": [
  {
   "cell_type": "code",
   "execution_count": 2,
   "id": "82e70b43",
   "metadata": {},
   "outputs": [
    {
     "name": "stdout",
     "output_type": "stream",
     "text": [
      "    |   Population Average    |             Best Individual              |\n",
      "---- ------------------------- ------------------------------------------ ----------\n",
      " Gen   Length          Fitness   Length          Fitness      OOB Fitness  Time Left\n",
      "   0    38.13      4.03172e+06        9         0.340105          0.32787     10.99s\n",
      "   1     9.54          2.69158        5         0.333636         0.372242     53.73s\n",
      "   2     7.15          108.894       11         0.268337         0.282004     57.73s\n",
      "   3     4.93          1.46701       11         0.247765         0.241173     52.16s\n",
      "   4     3.58         0.850937        7         0.238789         0.319314     50.34s\n",
      "   5     4.19          1.94188       13         0.172865         0.172865     51.30s\n",
      "   6     5.69          1.32474       13         0.134246         0.134246     45.56s\n",
      "   7     7.40          2.19815       13         0.134246         0.134246     38.27s\n",
      "   8     7.73          1.31063       13        0.0570983        0.0570983     37.18s\n",
      "   9     9.27          1.86035       13       0.00895507       0.00895507     35.18s\n",
      "add(mul(X0, X0), sub(sub(add(X1, -0.409), mul(X1, X1)), 0.600))\n"
     ]
    }
   ],
   "source": [
    "import sys\n",
    "sys.path.append('gplearn')\n",
    "\n",
    "%matplotlib inline\n",
    "from gplearn.genetic import SymbolicRegressor\n",
    "from sklearn.ensemble import RandomForestRegressor\n",
    "from sklearn.tree import DecisionTreeRegressor\n",
    "from sklearn.utils.random import check_random_state\n",
    "from mpl_toolkits.mplot3d import Axes3D\n",
    "import matplotlib.pyplot as plt\n",
    "import numpy as np\n",
    "import graphviz\n",
    "\n",
    "\n",
    "# Ground truth\n",
    "x0 = np.arange(-1, 1, .1)\n",
    "x1 = np.arange(-1, 1, .1)\n",
    "x0, x1 = np.meshgrid(x0, x1)\n",
    "y_truth = x0**2 - x1**2 + x1 - 1\n",
    "rng = check_random_state(0)\n",
    "\n",
    "\n",
    "# Training samples\n",
    "X_train = rng.uniform(-1, 1, 1000).reshape(10, 50, 2)\n",
    "y_train = X_train[:, :, 0]**2 - X_train[:, :, 1]**2 + X_train[:, :, 1] - 1\n",
    "\n",
    "\n",
    "# Testing samples\n",
    "X_test = rng.uniform(-1, 1, 1000).reshape(10, 50, 2)\n",
    "y_test = X_test[:, :, 0]**2 - X_test[:, :, 1]**2 + X_test[:, :, 1] - 1\n",
    "est_gp = SymbolicRegressor(population_size=5000,\n",
    "                           generations=20, stopping_criteria=0.01,\n",
    "                           p_crossover=0.7, p_subtree_mutation=0.1,\n",
    "                           p_hoist_mutation=0.05, p_point_mutation=0.1,\n",
    "                           max_samples=0.9, verbose=1,\n",
    "                           parsimony_coefficient=0.01, random_state=0,\n",
    "                           n_jobs=10)\n",
    "est_gp.fit(X_train, y_train)\n",
    "print(est_gp._program)"
   ]
  }
 ],
 "metadata": {
  "kernelspec": {
   "display_name": "factordb",
   "language": "python",
   "name": "python3"
  },
  "language_info": {
   "codemirror_mode": {
    "name": "ipython",
    "version": 3
   },
   "file_extension": ".py",
   "mimetype": "text/x-python",
   "name": "python",
   "nbconvert_exporter": "python",
   "pygments_lexer": "ipython3",
   "version": "3.10.16"
  }
 },
 "nbformat": 4,
 "nbformat_minor": 5
}
